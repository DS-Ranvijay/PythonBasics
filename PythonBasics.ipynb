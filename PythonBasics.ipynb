{
  "nbformat": 4,
  "nbformat_minor": 0,
  "metadata": {
    "colab": {
      "provenance": []
    },
    "kernelspec": {
      "name": "python3",
      "display_name": "Python 3"
    },
    "language_info": {
      "name": "python"
    }
  },
  "cells": [
    {
      "cell_type": "markdown",
      "source": [
        "# Python Basics Questions"
      ],
      "metadata": {
        "id": "BqFPBRgFM-95"
      }
    },
    {
      "cell_type": "markdown",
      "source": [
        "1. What is Python, and why is it popular?\n",
        "-  Python is a high-level, interpreted, general-purpose programming language created by Guido van Rossum in 1991.\n",
        "\n",
        "-  It is widely used because:\n",
        " -  Simple syntax – looks like English, easy to learn.\n",
        "\n",
        " - Cross-platform – works on Windows, Linux, Mac.\n",
        "\n",
        " - Huge libraries – supports AI, ML, data science, web development, etc.\n",
        "\n",
        " - Community support – millions of developers worldwide."
      ],
      "metadata": {
        "id": "21umkED2NxbY"
      }
    },
    {
      "cell_type": "code",
      "execution_count": null,
      "metadata": {
        "id": "fXz4RiVWMVms"
      },
      "outputs": [],
      "source": [
        "# Example\n",
        "print(\"Hello, Python!\")"
      ]
    },
    {
      "cell_type": "markdown",
      "source": [
        "2.  What is an interpreter in Python?\n",
        "-  Python does not use a compiler (like C or Java).\n",
        "-  Instead, it uses an interpreter, which executes code line by line.\n",
        "-  This makes it:\n",
        "\n",
        "  -  Easier to debug\n",
        "\n",
        "  -  Slower than compiled languages, but more flexible\n",
        "- Example:\n",
        "  - If code has an error at line 5, Python executes lines 1–4, then stops at line 5."
      ],
      "metadata": {
        "id": "OsPZkjEQPJUz"
      }
    },
    {
      "cell_type": "markdown",
      "source": [
        "3. What are pre-defined keywords in Python?\n",
        "-  Keywords are reserved words in Python that cannot be used as identifiers (variable/function names).\n",
        "-  Keywords: ['False', 'None', 'True', 'and', 'as', 'assert', 'async', 'await', 'break', 'class', 'continue', 'def', 'del', 'elif', 'else', 'except', 'finally', 'for', 'from', 'global', 'if', 'import', 'in', 'is', 'lambda', 'nonlocal', 'not', 'or', 'pass', 'raise', 'return', 'try', 'while', 'with', 'yield']\n"
      ],
      "metadata": {
        "id": "mEMP3F8MPy3f"
      }
    },
    {
      "cell_type": "code",
      "source": [
        "#Example\n",
        "import keyword\n",
        "print(keyword.kwlist)   # Shows all Python keywords\n"
      ],
      "metadata": {
        "id": "9xIRmOweQc3m"
      },
      "execution_count": null,
      "outputs": []
    },
    {
      "cell_type": "markdown",
      "source": [
        "4. Can keywords be used as variable names?\n",
        "-  No\n",
        "-  Because keywords have special meaning."
      ],
      "metadata": {
        "id": "z5qSnBdLRA5u"
      }
    },
    {
      "cell_type": "code",
      "source": [
        "#Example\n",
        "\n",
        "if = 10\n",
        "#  Error: invalid syntax"
      ],
      "metadata": {
        "id": "i6LbVNunRcaB"
      },
      "execution_count": null,
      "outputs": []
    },
    {
      "cell_type": "markdown",
      "source": [
        "5. What is mutability in Python?\n",
        "-  Mutability means can the object be changed after creation?\n",
        "\n",
        "  -  Mutable → changeable (e.g., list, dict, set)\n",
        "  -  Immutable → unchangeable (e.g., tuple, string, int, float)"
      ],
      "metadata": {
        "id": "cIiIBwnNRjYF"
      }
    },
    {
      "cell_type": "code",
      "source": [
        "#Example\n",
        "# Mutable list\n",
        "my_list = [1, 2, 3]\n",
        "my_list[0] = 100\n",
        "print(my_list)   # [100, 2, 3]\n",
        "\n",
        "# Immutable string\n",
        "my_str = \"Hello\"\n",
        "# my_str[0] = \"h\" Error (strings can’t be modified)\n"
      ],
      "metadata": {
        "id": "T1mgQWIgR3jI"
      },
      "execution_count": null,
      "outputs": []
    },
    {
      "cell_type": "markdown",
      "source": [
        "6. Why are lists mutable, but tuples are immutable?\n",
        "-  List: Designed for dynamic data → add, delete, modify elements.\n",
        "-  Tuple: Designed for fixed data → protects data from being changed.\n",
        "-  Efficiency: Immutable objects are faster and safer in multi-threaded programs."
      ],
      "metadata": {
        "id": "xR5Cdbb_SDB-"
      }
    },
    {
      "cell_type": "markdown",
      "source": [],
      "metadata": {
        "id": "5ETGnkfPSWaS"
      }
    },
    {
      "cell_type": "markdown",
      "source": [
        "7. What is the difference between “==” and “is” operators in Python?\n",
        "-  == → checks value equality\n",
        "-  is → checks object identity (same memory location)"
      ],
      "metadata": {
        "id": "Z1J99zC7SlJL"
      }
    },
    {
      "cell_type": "code",
      "source": [
        "#Example\n",
        "a = [1,2,3]\n",
        "b = [1,2,3]\n",
        "print(a == b)   # True (same values)\n",
        "print(a is b)   # False (different objects in memory)\n",
        "c = a\n",
        "print(a is c)   # True (same memory reference)\n"
      ],
      "metadata": {
        "id": "1hCXtF2JSxiH"
      },
      "execution_count": null,
      "outputs": []
    },
    {
      "cell_type": "markdown",
      "source": [
        "8. What are logical operators in Python?\n",
        "-  Used to combine conditions:\n",
        "\n",
        "  -  and → True if both conditions are true\n",
        "  -  or → True if any condition is true\n",
        "  -  not → reverses condition"
      ],
      "metadata": {
        "id": "_c_wyWU8S6OU"
      }
    },
    {
      "cell_type": "code",
      "source": [
        "#Example\n",
        "x = 10\n",
        "print(x > 5 and x < 20)  # True\n",
        "print(x > 15 or x == 10) # True\n",
        "print(not(x > 5))        # False\n"
      ],
      "metadata": {
        "id": "XPQtTkc-TLwZ"
      },
      "execution_count": null,
      "outputs": []
    },
    {
      "cell_type": "markdown",
      "source": [
        "9. What is type casting in Python?\n",
        "-  Converting one data type into another."
      ],
      "metadata": {
        "id": "M-krKtgdTRml"
      }
    },
    {
      "cell_type": "code",
      "source": [
        "#Example\n",
        "x = \"123\"\n",
        "y = int(x)   # Converts string to integer\n",
        "print(y + 10)   # 133"
      ],
      "metadata": {
        "id": "Ir79-fHQTbiO"
      },
      "execution_count": null,
      "outputs": []
    },
    {
      "cell_type": "markdown",
      "source": [
        "10. What is the difference between implicit and explicit type casting?\n",
        "-  Implicit casting (Type Promotion): Python automatically converts data type."
      ],
      "metadata": {
        "id": "NOyImU5kTm0T"
      }
    },
    {
      "cell_type": "code",
      "source": [
        "#Example\n",
        "x = 10     # int\n",
        "y = 2.5    # float\n",
        "z = x + y  # int → float automatically\n",
        "print(z)   # 12.5\n"
      ],
      "metadata": {
        "id": "yckd7xL-T0WJ"
      },
      "execution_count": null,
      "outputs": []
    },
    {
      "cell_type": "markdown",
      "source": [
        "-  Explicit casting: Done manually using int(), float(), str()."
      ],
      "metadata": {
        "id": "9hYyfq38T48I"
      }
    },
    {
      "cell_type": "code",
      "source": [
        "#Example\n",
        "x = \"50\"\n",
        "y = int(x) + 10\n",
        "print(y)   # 60\n"
      ],
      "metadata": {
        "id": "Cpa_M5fTT-eA"
      },
      "execution_count": null,
      "outputs": []
    },
    {
      "cell_type": "markdown",
      "source": [
        "11. What is the purpose of conditional statements in Python?\n",
        "-  Conditional statements allow decision-making.\n",
        "-  Based on conditions, the program executes different code."
      ],
      "metadata": {
        "id": "qjHyoA8DUGVI"
      }
    },
    {
      "cell_type": "code",
      "source": [
        "#Example\n",
        "age = 18\n",
        "if age >= 18:\n",
        "    print(\"You can vote\")\n",
        "else:\n",
        "    print(\"You cannot vote\")\n"
      ],
      "metadata": {
        "id": "QGfSwLhTUTrg"
      },
      "execution_count": null,
      "outputs": []
    },
    {
      "cell_type": "markdown",
      "source": [
        "12.  How does the elif statement work?\n",
        "-  elif = else if\n",
        "-  Checks multiple conditions in order.\n",
        "-  As soon as one condition is True, others are skipped."
      ],
      "metadata": {
        "id": "W15gWOxHUY6n"
      }
    },
    {
      "cell_type": "code",
      "source": [
        "#Example\n",
        "marks = 75\n",
        "if marks >= 90:\n",
        "    print(\"A Grade\")\n",
        "elif marks >= 60:\n",
        "    print(\"B Grade\")   # ✅ This executes\n",
        "else:\n",
        "    print(\"C Grade\")\n"
      ],
      "metadata": {
        "id": "MI4qgs4zUlc6"
      },
      "execution_count": null,
      "outputs": []
    },
    {
      "cell_type": "markdown",
      "source": [
        "13. What is the difference between for and while loops?\n",
        "-  for loop → best when number of iterations is known."
      ],
      "metadata": {
        "id": "93FXLgGJUp85"
      }
    },
    {
      "cell_type": "code",
      "source": [
        "#Example\n",
        "for i in range(5):\n",
        "    print(i)\n"
      ],
      "metadata": {
        "id": "LN7kis1wU9a6"
      },
      "execution_count": null,
      "outputs": []
    },
    {
      "cell_type": "markdown",
      "source": [
        "-  while loop → best when number of iterations is unknown, depends on condition."
      ],
      "metadata": {
        "id": "jlCEX1nyVB68"
      }
    },
    {
      "cell_type": "code",
      "source": [
        "#Example\n",
        "x = 1\n",
        "while x < 5:\n",
        "    print(x)\n",
        "    x += 1\n"
      ],
      "metadata": {
        "id": "gg2zUwXuVIZ-"
      },
      "execution_count": null,
      "outputs": []
    },
    {
      "cell_type": "markdown",
      "source": [
        "14.  Describe a scenario where a while loop is more suitable than a for loop.\n",
        "-  Example: Reading input until user types \"exit\"."
      ],
      "metadata": {
        "id": "6td0x4pKVLA6"
      }
    },
    {
      "cell_type": "code",
      "source": [
        "command = \"\"\n",
        "while command != \"exit\":\n",
        "    command = input(\"Enter a command: \")\n",
        "#We don’t know how many times user will enter data → so while is better."
      ],
      "metadata": {
        "id": "m1bXakEHVWRb"
      },
      "execution_count": null,
      "outputs": []
    },
    {
      "cell_type": "markdown",
      "source": [
        "#Practical Questions"
      ],
      "metadata": {
        "id": "x5IVRjsRVv-F"
      }
    },
    {
      "cell_type": "markdown",
      "source": [
        "1. Write a Python program to print \"Hello, World!."
      ],
      "metadata": {
        "id": "M72i4yIMV0g5"
      }
    },
    {
      "cell_type": "code",
      "source": [
        "print(\"Hello, World!\")\n"
      ],
      "metadata": {
        "id": "rIFCtw5oWIyt"
      },
      "execution_count": null,
      "outputs": []
    },
    {
      "cell_type": "markdown",
      "source": [
        "2. Write a Python program that displays your name and age."
      ],
      "metadata": {
        "id": "OnqYb5ltWMci"
      }
    },
    {
      "cell_type": "code",
      "source": [
        "name = \"Aditya\"\n",
        "age = 20\n",
        "print(\"My name is\", name, \"and I am\", age, \"years old.\")\n"
      ],
      "metadata": {
        "id": "1z-gieG9WVy7"
      },
      "execution_count": null,
      "outputs": []
    },
    {
      "cell_type": "markdown",
      "source": [
        "3. Write code to print all the pre-defined keywords in Python using the keyword library."
      ],
      "metadata": {
        "id": "vIcqY4ZKWYlB"
      }
    },
    {
      "cell_type": "code",
      "source": [
        "import keyword\n",
        "print(\"Python Keywords:\")\n",
        "print(keyword.kwlist)\n"
      ],
      "metadata": {
        "id": "uhp6Q25WWcup"
      },
      "execution_count": null,
      "outputs": []
    },
    {
      "cell_type": "markdown",
      "source": [
        "4. Write a program that checks if a given word is a Python keyword."
      ],
      "metadata": {
        "id": "qgRNOUOuWfUO"
      }
    },
    {
      "cell_type": "code",
      "source": [
        "import keyword\n",
        "\n",
        "word = input(\"Enter a word: \")\n",
        "if keyword.iskeyword(word):\n",
        "    print(word, \"is a Python keyword.\")\n",
        "else:\n",
        "    print(word, \"is NOT a Python keyword.\")\n"
      ],
      "metadata": {
        "id": "ERkJtiqyWjBe"
      },
      "execution_count": null,
      "outputs": []
    },
    {
      "cell_type": "markdown",
      "source": [
        "5. Create a list and tuple in Python, and demonstrate how attempting to change an element works differently for each."
      ],
      "metadata": {
        "id": "QJtqpKg9Wl_B"
      }
    },
    {
      "cell_type": "code",
      "source": [
        "def modify_list(lst):\n",
        "    lst.append(100)   # List is mutable\n",
        "\n",
        "def modify_number(num):\n",
        "    num += 10         # Int is immutable\n",
        "    return num\n",
        "\n",
        "my_list = [1, 2, 3]\n",
        "my_num = 50\n",
        "\n",
        "modify_list(my_list)\n",
        "print(\"After modifying list:\", my_list)  # List changed\n",
        "\n",
        "new_num = modify_number(my_num)\n",
        "print(\"After modifying number:\", my_num)   # Number unchanged\n",
        "print(\"Returned number:\", new_num)\n"
      ],
      "metadata": {
        "id": "b_s7CqxOWtHx"
      },
      "execution_count": null,
      "outputs": []
    },
    {
      "cell_type": "markdown",
      "source": [
        "6. Write a function to demonstrate the behavior of mutable and immutable arguments."
      ],
      "metadata": {
        "id": "AxU9to-CWwP-"
      }
    },
    {
      "cell_type": "code",
      "source": [
        "a = int(input(\"Enter first number: \"))\n",
        "b = int(input(\"Enter second number: \"))\n",
        "\n",
        "print(\"Sum =\", a + b)\n",
        "print(\"Difference =\", a - b)\n",
        "print(\"Product =\", a * b)\n",
        "print(\"Division =\", a / b)\n",
        "print(\"Modulus =\", a % b)\n",
        "print(\"Exponent =\", a ** b)\n"
      ],
      "metadata": {
        "id": "4ltg01vDW3MO"
      },
      "execution_count": null,
      "outputs": []
    },
    {
      "cell_type": "markdown",
      "source": [
        "7. Write a program that performs basic arithmetic operations on two user-input numbers."
      ],
      "metadata": {
        "id": "id5IBakJWz7a"
      }
    },
    {
      "cell_type": "code",
      "source": [
        "x = 10\n",
        "y = 5\n",
        "\n",
        "print(x > 5 and y < 10)  # True\n",
        "print(x > 20 or y < 10)  # True\n",
        "print(not(x > 5))        # False\n"
      ],
      "metadata": {
        "id": "TmYpfDZKXB6X"
      },
      "execution_count": null,
      "outputs": []
    },
    {
      "cell_type": "markdown",
      "source": [
        "8. Write a program to demonstrate the use of logical operators."
      ],
      "metadata": {
        "id": "egT_LWX9XIoi"
      }
    },
    {
      "cell_type": "code",
      "source": [
        "# List (mutable)\n",
        "my_list = [1, 2, 3]\n",
        "my_list[0] = 100\n",
        "print(\"Modified list:\", my_list)\n",
        "\n",
        "# Tuple (immutable)\n",
        "my_tuple = (1, 2, 3)\n",
        "# my_tuple[0] = 100  #  Error\n",
        "print(\"Tuple cannot be modified:\", my_tuple)\n"
      ],
      "metadata": {
        "id": "IunjQmeyXPc9"
      },
      "execution_count": null,
      "outputs": []
    },
    {
      "cell_type": "markdown",
      "source": [
        "9. Write a Python program to convert user input from string to integer, float, and boolean types."
      ],
      "metadata": {
        "id": "JRxK2n2oXXpH"
      }
    },
    {
      "cell_type": "code",
      "source": [
        "value = input(\"Enter something: \")\n",
        "\n",
        "print(\"As string:\", value)\n",
        "print(\"As integer:\", int(value))\n",
        "print(\"As float:\", float(value))\n",
        "print(\"As boolean:\", bool(value))\n"
      ],
      "metadata": {
        "id": "rvZ3a2VVXb2o"
      },
      "execution_count": null,
      "outputs": []
    },
    {
      "cell_type": "markdown",
      "source": [
        "10.  Write code to demonstrate type casting with list elements."
      ],
      "metadata": {
        "id": "HGw1IGT3XhDq"
      }
    },
    {
      "cell_type": "code",
      "source": [
        "str_list = [\"10\", \"20\", \"30\"]\n",
        "\n",
        "# Convert all elements to integers\n",
        "int_list = [int(x) for x in str_list]\n",
        "\n",
        "print(\"Original list:\", str_list)\n",
        "print(\"Converted list:\", int_list)\n"
      ],
      "metadata": {
        "id": "Ti_JjJXOXkvc"
      },
      "execution_count": null,
      "outputs": []
    },
    {
      "cell_type": "markdown",
      "source": [
        "11. Write a program that checks if a number is positive, negative, or zero."
      ],
      "metadata": {
        "id": "w8H357DQXnn_"
      }
    },
    {
      "cell_type": "code",
      "source": [
        "num = int(input(\"Enter a number: \"))\n",
        "\n",
        "if num > 0:\n",
        "    print(\"Positive\")\n",
        "elif num < 0:\n",
        "    print(\"Negative\")\n",
        "else:\n",
        "    print(\"Zero\")\n"
      ],
      "metadata": {
        "id": "TbeKi5rYXtHe"
      },
      "execution_count": null,
      "outputs": []
    },
    {
      "cell_type": "markdown",
      "source": [
        "12. Write a for loop to print numbers from 1 to 10."
      ],
      "metadata": {
        "id": "X8iznyMBXwek"
      }
    },
    {
      "cell_type": "code",
      "source": [
        "for i in range(1, 11):\n",
        "    print(i)\n"
      ],
      "metadata": {
        "id": "AMWqbAOuX0aY"
      },
      "execution_count": null,
      "outputs": []
    },
    {
      "cell_type": "markdown",
      "source": [
        "13. Write a Python program to find the sum of all even numbers between 1 and 50."
      ],
      "metadata": {
        "id": "n5wrGbITX3bm"
      }
    },
    {
      "cell_type": "code",
      "source": [
        "total = 0\n",
        "for i in range(1, 51):\n",
        "    if i % 2 == 0:\n",
        "        total += i\n",
        "print(\"Sum of even numbers 1-50:\", total)\n"
      ],
      "metadata": {
        "id": "2cLAtBWuX6eX"
      },
      "execution_count": null,
      "outputs": []
    },
    {
      "cell_type": "markdown",
      "source": [
        "14. Write a program to reverse a string using a while loop."
      ],
      "metadata": {
        "id": "g1oMuWzYX89d"
      }
    },
    {
      "cell_type": "code",
      "source": [
        "s = input(\"Enter a string: \")\n",
        "rev = \"\"\n",
        "i = len(s) - 1\n",
        "\n",
        "while i >= 0:\n",
        "    rev += s[i]\n",
        "    i -= 1\n",
        "\n",
        "print(\"Reversed string:\", rev)\n"
      ],
      "metadata": {
        "id": "FaQcKT-0YAk8"
      },
      "execution_count": null,
      "outputs": []
    },
    {
      "cell_type": "markdown",
      "source": [
        "15. Write a Python program to calculate the factorial of a number provided by the user using a while loop."
      ],
      "metadata": {
        "id": "n4Gn0YmhYDxW"
      }
    },
    {
      "cell_type": "code",
      "source": [
        "num = int(input(\"Enter a number: \"))\n",
        "fact = 1\n",
        "i = 1\n",
        "\n",
        "while i <= num:\n",
        "    fact *= i\n",
        "    i += 1\n",
        "\n",
        "print(\"Factorial of\", num, \"is\", fact)\n"
      ],
      "metadata": {
        "id": "Xr_9MAbRYJnA"
      },
      "execution_count": null,
      "outputs": []
    }
  ]
}